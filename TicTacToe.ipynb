{
  "nbformat": 4,
  "nbformat_minor": 0,
  "metadata": {
    "colab": {
      "name": "TicTacToe.ipynb",
      "provenance": [],
      "collapsed_sections": [],
      "toc_visible": true
    },
    "kernelspec": {
      "name": "python3",
      "display_name": "Python 3"
    }
  },
  "cells": [
    {
      "cell_type": "markdown",
      "metadata": {
        "id": "HUMSOFYnTqnY"
      },
      "source": [
        "## Minmax algortihm\n",
        "playign against computer\n"
      ]
    },
    {
      "cell_type": "markdown",
      "metadata": {
        "id": "7te5rtA6lDCb"
      },
      "source": [
        "Displaying the board"
      ]
    },
    {
      "cell_type": "code",
      "metadata": {
        "id": "4XBfnk_LWivK"
      },
      "source": [
        "\n",
        "from IPython.display import clear_output\n",
        "\n",
        "def display_board(board):\n",
        "    clear_output()  # Remember, this only works in jupyter!\n",
        "    \n",
        "    print('   |   |')\n",
        "    print(' ' + board[7] + ' | ' + board[8] + ' | ' + board[9])\n",
        "    print('   |   |')\n",
        "    print('-----------')\n",
        "    print('   |   |')\n",
        "    print(' ' + board[4] + ' | ' + board[5] + ' | ' + board[6])\n",
        "    print('   |   |')\n",
        "    print('-----------')\n",
        "    print('   |   |')\n",
        "    print(' ' + board[1] + ' | ' + board[2] + ' | ' + board[3])\n",
        "    print('   |   |')\n"
      ],
      "execution_count": 111,
      "outputs": []
    },
    {
      "cell_type": "code",
      "metadata": {
        "id": "g4zgKygBbP24",
        "outputId": "b84c3386-1fc0-4362-91a5-e79a94bba274",
        "colab": {
          "base_uri": "https://localhost:8080/",
          "height": 207
        }
      },
      "source": [
        "test_board = [\"X\",\"O\",\"X\",\"O\",\"X\",\"O\",\"X\",\"O\",\"X\",\"O\"]\n",
        "display_board(test_board)\n",
        "display_board(test_board)\n"
      ],
      "execution_count": 112,
      "outputs": [
        {
          "output_type": "stream",
          "text": [
            "   |   |\n",
            " O | X | O\n",
            "   |   |\n",
            "-----------\n",
            "   |   |\n",
            " X | O | X\n",
            "   |   |\n",
            "-----------\n",
            "   |   |\n",
            " O | X | O\n",
            "   |   |\n"
          ],
          "name": "stdout"
        }
      ]
    },
    {
      "cell_type": "markdown",
      "metadata": {
        "id": "FYWVeQziZfad"
      },
      "source": [
        "Taking user input and mark them with a variable X or O"
      ]
    },
    {
      "cell_type": "code",
      "metadata": {
        "id": "aFQIn9-sYoa1"
      },
      "source": [
        "def player_input():\n",
        "    marker = ''\n",
        "    \n",
        "    while not (marker == 'X' or marker == 'O'):\n",
        "        marker = input('Player 1: Do you want to be X or O? ').upper()\n",
        "\n",
        "    if marker == 'X':\n",
        "        return ('X', 'O')\n",
        "    else:\n",
        "        return ('O', 'X')"
      ],
      "execution_count": 129,
      "outputs": []
    },
    {
      "cell_type": "code",
      "metadata": {
        "id": "ir5ceW6UaBhT",
        "outputId": "38aaba1c-c6f7-41d5-9e9c-9110fb7a7fa0",
        "colab": {
          "base_uri": "https://localhost:8080/",
          "height": 34
        }
      },
      "source": [
        "player_1_marker , player_2_marker = player_input()"
      ],
      "execution_count": 130,
      "outputs": [
        {
          "output_type": "stream",
          "text": [
            "Player 1: Do you want to be X or O? X\n"
          ],
          "name": "stdout"
        }
      ]
    },
    {
      "cell_type": "code",
      "metadata": {
        "id": "J2CoSsdeaIeN",
        "outputId": "c7f4c412-0b8f-429e-a02a-e6b12f40e7ae",
        "colab": {
          "base_uri": "https://localhost:8080/",
          "height": 35
        }
      },
      "source": [
        "player_2_marker"
      ],
      "execution_count": 131,
      "outputs": [
        {
          "output_type": "execute_result",
          "data": {
            "application/vnd.google.colaboratory.intrinsic+json": {
              "type": "string"
            },
            "text/plain": [
              "'O'"
            ]
          },
          "metadata": {
            "tags": []
          },
          "execution_count": 131
        }
      ]
    },
    {
      "cell_type": "markdown",
      "metadata": {
        "id": "vEXkzKqOacIA"
      },
      "source": [
        "placing the marker on a desired position "
      ]
    },
    {
      "cell_type": "code",
      "metadata": {
        "id": "WYvBYfsBaPQX"
      },
      "source": [
        "def place_marker(board, marker, position):\n",
        "  board[position] = marker\n",
        "  "
      ],
      "execution_count": 116,
      "outputs": []
    },
    {
      "cell_type": "code",
      "metadata": {
        "id": "FpdeirEvatwF",
        "outputId": "af9a55a4-501b-4d0a-94c9-26f52dae7c3b",
        "colab": {
          "base_uri": "https://localhost:8080/",
          "height": 207
        }
      },
      "source": [
        "place_marker(test_board,\"$\",8)\n",
        "display_board(test_board)"
      ],
      "execution_count": 117,
      "outputs": [
        {
          "output_type": "stream",
          "text": [
            "   |   |\n",
            " O | $ | O\n",
            "   |   |\n",
            "-----------\n",
            "   |   |\n",
            " X | O | X\n",
            "   |   |\n",
            "-----------\n",
            "   |   |\n",
            " O | X | O\n",
            "   |   |\n"
          ],
          "name": "stdout"
        }
      ]
    },
    {
      "cell_type": "markdown",
      "metadata": {
        "id": "gM702g1hhI-4"
      },
      "source": [
        "defining win or lose"
      ]
    },
    {
      "cell_type": "code",
      "metadata": {
        "id": "DHmVbfPfa5UA"
      },
      "source": [
        "def check_win(board,mark):\n",
        "  #check all rows and see if they share the same amrker\n",
        "  #check all columns and see if the same marker \n",
        "  #check the diagnols \n",
        "    return ((board[7] == mark and board[8] == mark and board[9] == mark) or # across the top\n",
        "    (board[4] == mark and board[5] == mark and board[6] == mark) or # across the middle\n",
        "    (board[1] == mark and board[2] == mark and board[3] == mark) or # across the bottom\n",
        "    (board[7] == mark and board[4] == mark and board[1] == mark) or # down the middle\n",
        "    (board[8] == mark and board[5] == mark and board[2] == mark) or # down the middle\n",
        "    (board[9] == mark and board[6] == mark and board[3] == mark) or # down the right side\n",
        "    (board[7] == mark and board[5] == mark and board[3] == mark) or # diagonal\n",
        "    (board[9] == mark and board[5] == mark and board[1] == mark)) # diagonal"
      ],
      "execution_count": 133,
      "outputs": []
    },
    {
      "cell_type": "code",
      "metadata": {
        "id": "vpqjagxKiHMu",
        "outputId": "014ea917-a3bc-4cfa-88d0-ca72543a5175",
        "colab": {
          "base_uri": "https://localhost:8080/",
          "height": 34
        }
      },
      "source": [
        "check_win(test_board,\"X\")"
      ],
      "execution_count": 134,
      "outputs": [
        {
          "output_type": "execute_result",
          "data": {
            "text/plain": [
              "False"
            ]
          },
          "metadata": {
            "tags": []
          },
          "execution_count": 134
        }
      ]
    },
    {
      "cell_type": "markdown",
      "metadata": {
        "id": "68X-VldFjHJ8"
      },
      "source": [
        "Selecting a function to decide which player goes first"
      ]
    },
    {
      "cell_type": "code",
      "metadata": {
        "id": "fPSO483CiToC"
      },
      "source": [
        "import random\n",
        "def choose_first():\n",
        "  flip = random.randint(0,1)\n",
        "  if flip == 0 :\n",
        "    return \"Player 1\"\n",
        "  else:\n",
        "    return \"Player 2\""
      ],
      "execution_count": 135,
      "outputs": []
    },
    {
      "cell_type": "markdown",
      "metadata": {
        "id": "mNTYro3njbsU"
      },
      "source": [
        "check all spaces whih are empty"
      ]
    },
    {
      "cell_type": "code",
      "metadata": {
        "id": "jnsIi8oQjdoU"
      },
      "source": [
        "def space_check(board,position):\n",
        "  return board[position]== \" \"\n"
      ],
      "execution_count": 121,
      "outputs": []
    },
    {
      "cell_type": "markdown",
      "metadata": {
        "id": "-E_SuksyjvRu"
      },
      "source": [
        "check if the board is full "
      ]
    },
    {
      "cell_type": "code",
      "metadata": {
        "id": "5IIqiFaQjqKe"
      },
      "source": [
        "def full_board_check(board):\n",
        "  for i in range(1,10):\n",
        "    if space_check(board, i):\n",
        "      return False \n",
        "  return True"
      ],
      "execution_count": 122,
      "outputs": []
    },
    {
      "cell_type": "markdown",
      "metadata": {
        "id": "wBA8aATnkSVE"
      },
      "source": [
        "players choice for position "
      ]
    },
    {
      "cell_type": "code",
      "metadata": {
        "id": "WS1U3E6NkQJ0"
      },
      "source": [
        "def player_choice(board):\n",
        "  position = 0 \n",
        "  while position not in [1,2,3,4,5,6,7,8,9] or not space_check(board,position):\n",
        "    position = int(input(\"choose a position\"))\n",
        "  return position"
      ],
      "execution_count": 136,
      "outputs": []
    },
    {
      "cell_type": "markdown",
      "metadata": {
        "id": "AdNEhiPRkvuz"
      },
      "source": [
        "wanna play again?"
      ]
    },
    {
      "cell_type": "code",
      "metadata": {
        "id": "jgBlilekkmbw"
      },
      "source": [
        "def replay():\n",
        "   choice = input(\"wanna play again\")\n",
        "   return choice == \"Yes\" "
      ],
      "execution_count": 137,
      "outputs": []
    },
    {
      "cell_type": "code",
      "metadata": {
        "id": "_V7V1Gkj0SuX",
        "outputId": "1454d5f0-6925-4f42-f553-261112d75887",
        "colab": {
          "base_uri": "https://localhost:8080/",
          "height": 242
        }
      },
      "source": [
        "print('Welcome to Tic Tac Toe!')\n",
        "\n",
        "while True:\n",
        "    # Reset the board\n",
        "    theBoard = [' '] * 10\n",
        "    player1_marker, player2_marker = player_input()\n",
        "    turn = choose_first()\n",
        "    print(turn + ' will go first.')\n",
        "    \n",
        "    play_game = input('Are you ready to play? Enter Yes or No.')\n",
        "    \n",
        "    if play_game.lower()[0] == 'y':\n",
        "        game_on = True\n",
        "    else:\n",
        "        game_on = False\n",
        "\n",
        "    while game_on:\n",
        "        if turn == 'Player 1':\n",
        "            # Player1's turn.\n",
        "            \n",
        "            display_board(theBoard)\n",
        "            position = player_choice(theBoard)\n",
        "            place_marker(theBoard, player1_marker, position)\n",
        "\n",
        "            if check_win(theBoard, player1_marker):\n",
        "                display_board(theBoard)\n",
        "                print('Congratulations! You have won the game!')\n",
        "                game_on = False\n",
        "            else:\n",
        "                if full_board_check(theBoard):\n",
        "                    display_board(theBoard)\n",
        "                    print('The game is a draw!')\n",
        "                    break\n",
        "                else:\n",
        "                    turn = 'Player 2'\n",
        "\n",
        "        else:\n",
        "            display_board(theBoard)\n",
        "            position = player_choice(theBoard)\n",
        "            place_marker(theBoard, player2_marker, position)\n",
        "\n",
        "            if check_win(theBoard, player2_marker):\n",
        "                display_board(theBoard)\n",
        "                print('Player 2 has won!')\n",
        "                game_on = False\n",
        "            else:\n",
        "                if full_board_check(theBoard):\n",
        "                    display_board(theBoard)\n",
        "                    print('The game is a draw!')\n",
        "                    break\n",
        "                else:\n",
        "                    turn = 'Player 1'\n",
        "\n",
        "    if not replay():\n",
        "        break\n"
      ],
      "execution_count": 141,
      "outputs": [
        {
          "output_type": "stream",
          "text": [
            "   |   |\n",
            " X |   |  \n",
            "   |   |\n",
            "-----------\n",
            "   |   |\n",
            " O | X | O\n",
            "   |   |\n",
            "-----------\n",
            "   |   |\n",
            "   | O | X\n",
            "   |   |\n",
            "Congratulations! You have won the game!\n",
            "wanna play again8\n"
          ],
          "name": "stdout"
        }
      ]
    },
    {
      "cell_type": "code",
      "metadata": {
        "id": "1aDdcZ3s1zcu"
      },
      "source": [
        ""
      ],
      "execution_count": null,
      "outputs": []
    }
  ]
}